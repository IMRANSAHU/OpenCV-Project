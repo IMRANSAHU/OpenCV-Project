{
 "cells": [
  {
   "cell_type": "code",
   "execution_count": 1,
   "id": "4773bf7e",
   "metadata": {},
   "outputs": [],
   "source": [
    "import cv2   # libary for image processing\n",
    "import datetime # inbuild libary"
   ]
  },
  {
   "cell_type": "code",
   "execution_count": 2,
   "id": "cab7b1f8",
   "metadata": {},
   "outputs": [],
   "source": [
    "cap=cv2.VideoCapture(0)  # to open the camera\n",
    "count=0\n",
    "face_cascade = cv2.CascadeClassifier('haarcascade_frontalface_default.xml')  # file for face detection\n",
    "smile_cascade = cv2.CascadeClassifier('haarcascade_smile.xml')  # file for smile detection\n",
    "while True:\n",
    "    _, frame=cap.read() # to read the camera\n",
    "    \n",
    "    if frame is not None: \n",
    "        count+=1\n",
    "        original_frame= frame.copy() # to make the copy of file\n",
    "        gray=cv2.cvtColor(frame, cv2.COLOR_BGR2GRAY)  # conert the image into grayscale\n",
    "        face = face_cascade.detectMultiScale(gray,1.3,5) # it used to detect the face in the image\n",
    "        for x,y,w,h in face:   # detect the face in four dimension\n",
    "            cv2.rectangle(frame,(x,y),(x+w,y+h),(0, 255, 255), 2)  # make the rectangle on the face in image\n",
    "            face_roi= frame[y:y+h, x:x+w]  #color image from all four dimension in the image\n",
    "            gray_roi= gray[y:y+h, x:x+w]  #gray image from all four dimension in the image\n",
    "            smile= smile_cascade.detectMultiScale(gray_roi,1.3,25) # detect the smile in the face rectangle\n",
    "            for x1,y1,w1,h1 in smile: # detect the smile in four dimension\n",
    "                cv2.rectangle(face_roi,(x1,y1),(x1+w1, y1+h1), (0,0, 255), 2) # make the rectangle on the smile in face rectangle\n",
    "                time_stamp=datetime.datetime.now().strftime('%Y-%M-%d-%H-%M-%S') # to make multiple iamge\n",
    "                file_name= f'photos/selfie-{time_stamp}.png' # automatic image name\n",
    "                cv2.imwrite(file_name, original_frame) # to make the file in the folder\n",
    "        cv2.imshow('cam star', frame)  # the camera frame\n",
    "        if cv2.waitKey(10) == ord('q') or count==10: # to come out from the operation by clicking q or after the \n",
    "            break"
   ]
  }
 ],
 "metadata": {
  "kernelspec": {
   "display_name": "Python 3 (ipykernel)",
   "language": "python",
   "name": "python3"
  },
  "language_info": {
   "codemirror_mode": {
    "name": "ipython",
    "version": 3
   },
   "file_extension": ".py",
   "mimetype": "text/x-python",
   "name": "python",
   "nbconvert_exporter": "python",
   "pygments_lexer": "ipython3",
   "version": "3.9.7"
  }
 },
 "nbformat": 4,
 "nbformat_minor": 5
}
